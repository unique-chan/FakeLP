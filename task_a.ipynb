{
 "cells": [
  {
   "cell_type": "code",
   "id": "initial_id",
   "metadata": {
    "collapsed": true,
    "ExecuteTime": {
     "end_time": "2024-05-22T06:25:49.301297Z",
     "start_time": "2024-05-22T06:25:49.299041Z"
    }
   },
   "source": [
    "import torch\n",
    "import torch.nn as nn\n",
    "import torch.optim as optim\n",
    "from torch.utils.data import DataLoader, Dataset, random_split\n",
    "from torchvision import transforms, datasets, models\n",
    "from sklearn.model_selection import KFold\n",
    "import numpy as np\n",
    "import random\n",
    "import os"
   ],
   "outputs": [],
   "execution_count": 9
  },
  {
   "metadata": {
    "ExecuteTime": {
     "end_time": "2024-05-22T06:25:49.691428Z",
     "start_time": "2024-05-22T06:25:49.689813Z"
    }
   },
   "cell_type": "code",
   "source": [
    "import warnings\n",
    "\n",
    "warnings.filterwarnings(action='ignore')"
   ],
   "id": "25a6f1d7529b2cb4",
   "outputs": [],
   "execution_count": 10
  },
  {
   "metadata": {},
   "cell_type": "markdown",
   "source": "## Fix Random Seeds",
   "id": "7a0b8cd7851d7044"
  },
  {
   "metadata": {},
   "cell_type": "code",
   "outputs": [],
   "execution_count": 11,
   "source": [
    "def set_seed(seed):\n",
    "    torch.manual_seed(seed)\n",
    "    torch.cuda.manual_seed(seed)\n",
    "    torch.cuda.manual_seed_all(seed)\n",
    "    np.random.seed(seed)\n",
    "    random.seed(seed)\n",
    "    torch.backends.cudnn.benchmark = False\n",
    "    torch.backends.cudnn.deterministic = True"
   ],
   "id": "9551e29e32fa585a"
  },
  {
   "metadata": {
    "ExecuteTime": {
     "end_time": "2024-05-22T06:26:42.658127Z",
     "start_time": "2024-05-22T06:26:42.655700Z"
    }
   },
   "cell_type": "code",
   "source": "set_seed(18)",
   "id": "716f2837b2410766",
   "outputs": [],
   "execution_count": 15
  },
  {
   "metadata": {},
   "cell_type": "markdown",
   "source": "## Parameter Setting",
   "id": "c386ed6e987ab102"
  },
  {
   "metadata": {},
   "cell_type": "code",
   "outputs": [],
   "execution_count": 12,
   "source": [
    "data_dir = 'fake_licenseplate'\n",
    "batch_size = 32\n",
    "num_epochs = 10\n",
    "k_folds = 5\n",
    "learning_rate = 0.001\n",
    "device = torch.device('cuda' if torch.cuda.is_available() else 'cpu')\n",
    "\n",
    "transform = transforms.Compose([\n",
    "    transforms.Resize((144, 48)),\n",
    "    transforms.ToTensor(),\n",
    "    transforms.Normalize([0.485, 0.456, 0.406], [0.229, 0.224, 0.225])\n",
    "])\n",
    "\n",
    "dataset = datasets.ImageFolder(root=data_dir, transform=transform)"
   ],
   "id": "94d8bd0e735cf2bd"
  },
  {
   "metadata": {},
   "cell_type": "markdown",
   "source": "## Model Design",
   "id": "555d70ad81cb71bd"
  },
  {
   "metadata": {},
   "cell_type": "code",
   "outputs": [],
   "execution_count": 13,
   "source": [
    "class SimpleCNN(nn.Module):\n",
    "    def __init__(self, num_classes=2):\n",
    "        super(SimpleCNN, self).__init__()\n",
    "        self.features = models.resnet18(pretrained=True)\n",
    "        self.features.fc = nn.Linear(self.features.fc.in_features, num_classes)\n",
    "\n",
    "    def forward(self, x):\n",
    "        x = self.features(x)\n",
    "        return x"
   ],
   "id": "2f1723b0f3020a03"
  },
  {
   "metadata": {},
   "cell_type": "markdown",
   "source": "## K-fold Cross Validation",
   "id": "3c5265c09b1a7a6c"
  },
  {
   "metadata": {},
   "cell_type": "code",
   "outputs": [
    {
     "name": "stdout",
     "output_type": "stream",
     "text": [
      "*** Fold 1 ***\n",
      "Fold 1, Epoch 1, Loss: 0.2607, Accuracy: 0.8909\n",
      "Fold 1, Epoch 2, Loss: 0.2370, Accuracy: 0.9091\n",
      "Fold 1, Epoch 3, Loss: 1.1363, Accuracy: 0.7636\n",
      "Fold 1, Epoch 4, Loss: 0.0788, Accuracy: 0.9636\n",
      "Fold 1, Epoch 5, Loss: 0.0693, Accuracy: 0.9636\n",
      "Fold 1, Epoch 6, Loss: 0.0367, Accuracy: 0.9818\n",
      "Fold 1, Epoch 7, Loss: 0.0264, Accuracy: 1.0000\n",
      "Fold 1, Epoch 8, Loss: 0.0056, Accuracy: 1.0000\n",
      "Fold 1, Epoch 9, Loss: 0.0014, Accuracy: 1.0000\n",
      "Fold 1, Epoch 10, Loss: 0.0008, Accuracy: 1.0000\n",
      "*** Fold 2 ***\n",
      "Fold 2, Epoch 1, Loss: 54.1820, Accuracy: 0.3636\n",
      "Fold 2, Epoch 2, Loss: 7.1800, Accuracy: 0.5818\n",
      "Fold 2, Epoch 3, Loss: 2.4780, Accuracy: 0.6909\n",
      "Fold 2, Epoch 4, Loss: 0.4123, Accuracy: 0.8545\n",
      "Fold 2, Epoch 5, Loss: 0.3556, Accuracy: 0.9091\n",
      "Fold 2, Epoch 6, Loss: 0.0474, Accuracy: 0.9636\n",
      "Fold 2, Epoch 7, Loss: 0.0062, Accuracy: 1.0000\n",
      "Fold 2, Epoch 8, Loss: 0.0378, Accuracy: 0.9818\n",
      "Fold 2, Epoch 9, Loss: 0.0420, Accuracy: 0.9818\n",
      "Fold 2, Epoch 10, Loss: 0.0196, Accuracy: 0.9818\n",
      "*** Fold 3 ***\n",
      "Fold 3, Epoch 1, Loss: 11.4609, Accuracy: 0.4364\n",
      "Fold 3, Epoch 2, Loss: 7.8523, Accuracy: 0.4727\n",
      "Fold 3, Epoch 3, Loss: 0.5075, Accuracy: 0.9091\n",
      "Fold 3, Epoch 4, Loss: 1.1998, Accuracy: 0.7818\n",
      "Fold 3, Epoch 5, Loss: 0.8935, Accuracy: 0.8182\n",
      "Fold 3, Epoch 6, Loss: 0.2331, Accuracy: 0.9273\n",
      "Fold 3, Epoch 7, Loss: 0.0051, Accuracy: 1.0000\n",
      "Fold 3, Epoch 8, Loss: 0.0009, Accuracy: 1.0000\n",
      "Fold 3, Epoch 9, Loss: 0.0070, Accuracy: 1.0000\n",
      "Fold 3, Epoch 10, Loss: 0.0850, Accuracy: 0.9818\n",
      "*** Fold 4 ***\n",
      "Fold 4, Epoch 1, Loss: 12.5216, Accuracy: 0.2963\n",
      "Fold 4, Epoch 2, Loss: 11.2786, Accuracy: 0.4444\n",
      "Fold 4, Epoch 3, Loss: 3.5321, Accuracy: 0.7037\n",
      "Fold 4, Epoch 4, Loss: 2.4662, Accuracy: 0.7963\n",
      "Fold 4, Epoch 5, Loss: 0.1407, Accuracy: 0.9815\n",
      "Fold 4, Epoch 6, Loss: 0.0337, Accuracy: 0.9815\n",
      "Fold 4, Epoch 7, Loss: 0.0089, Accuracy: 1.0000\n",
      "Fold 4, Epoch 8, Loss: 0.0122, Accuracy: 1.0000\n",
      "Fold 4, Epoch 9, Loss: 0.0065, Accuracy: 1.0000\n",
      "Fold 4, Epoch 10, Loss: 0.0132, Accuracy: 1.0000\n",
      "*** Fold 5 ***\n",
      "Fold 5, Epoch 1, Loss: 2.6618, Accuracy: 0.7407\n",
      "Fold 5, Epoch 2, Loss: 11.9992, Accuracy: 0.3519\n",
      "Fold 5, Epoch 3, Loss: 25.2950, Accuracy: 0.2593\n",
      "Fold 5, Epoch 4, Loss: 9.5035, Accuracy: 0.4259\n",
      "Fold 5, Epoch 5, Loss: 0.0338, Accuracy: 0.9815\n",
      "Fold 5, Epoch 6, Loss: 0.0087, Accuracy: 1.0000\n",
      "Fold 5, Epoch 7, Loss: 0.0315, Accuracy: 0.9815\n",
      "Fold 5, Epoch 8, Loss: 0.0401, Accuracy: 0.9815\n",
      "Fold 5, Epoch 9, Loss: 0.0724, Accuracy: 0.9815\n",
      "Fold 5, Epoch 10, Loss: 0.0459, Accuracy: 0.9815\n",
      "K-Fold Cross Validation results: {0: 1.0, 1: 0.9818181818181818, 2: 0.9818181818181818, 3: 1.0, 4: 0.9814814814814815}\n",
      "Average Accuracy: 0.9890\n"
     ]
    }
   ],
   "execution_count": 14,
   "source": [
    "kfold = KFold(n_splits=k_folds, shuffle=True)\n",
    "\n",
    "results = {}\n",
    "\n",
    "for fold, (train_idx, val_idx) in enumerate(kfold.split(dataset)):\n",
    "    print(f'*** Fold {fold + 1} ***')\n",
    "\n",
    "    train_subsampler = torch.utils.data.SubsetRandomSampler(train_idx)\n",
    "    val_subsampler = torch.utils.data.SubsetRandomSampler(val_idx)\n",
    "\n",
    "    train_loader = DataLoader(dataset, batch_size=batch_size, sampler=train_subsampler)\n",
    "    val_loader = DataLoader(dataset, batch_size=batch_size, sampler=val_subsampler)\n",
    "\n",
    "    model = SimpleCNN(num_classes=2)\n",
    "    model = model.to(torch.device('cuda' if torch.cuda.is_available() else 'cpu'))\n",
    "\n",
    "    criterion = nn.CrossEntropyLoss()\n",
    "    optimizer = optim.Adam(model.parameters(), lr=learning_rate)\n",
    "\n",
    "    for epoch in range(num_epochs):\n",
    "        model.train()\n",
    "        for batch in train_loader:\n",
    "            images, labels = batch\n",
    "            images, labels = images.to(device), labels.to(device)\n",
    "\n",
    "            optimizer.zero_grad()\n",
    "            outputs = model(images)\n",
    "            loss = criterion(outputs, labels)\n",
    "            loss.backward()\n",
    "            optimizer.step()\n",
    "\n",
    "        model.eval()\n",
    "        val_loss = 0.0\n",
    "        correct = 0\n",
    "        total = 0\n",
    "        with torch.no_grad():\n",
    "            for batch in val_loader:\n",
    "                images, labels = batch\n",
    "                images, labels = images.to(device), labels.to(device)\n",
    "                \n",
    "                outputs = model(images)\n",
    "                loss = criterion(outputs, labels)\n",
    "                val_loss += loss.item()\n",
    "                \n",
    "                _, predicted = torch.max(outputs.data, 1)\n",
    "                total += labels.size(0)\n",
    "                correct += (predicted == labels).sum().item()\n",
    "\n",
    "        val_loss /= len(val_loader)\n",
    "        val_acc = correct / total\n",
    "        print(f'Fold {fold + 1}, Epoch {epoch + 1}, Loss: {val_loss:.4f}, Accuracy: {val_acc:.4f}')\n",
    "\n",
    "    results[fold] = val_acc\n",
    "\n",
    "print(f'K-Fold Cross Validation results: {results}')\n",
    "print(f'Average Accuracy: {np.mean(list(results.values())):.4f}')"
   ],
   "id": "9fe7a940b26568c0"
  },
  {
   "metadata": {},
   "cell_type": "code",
   "outputs": [],
   "execution_count": null,
   "source": "",
   "id": "34dd7cb0a847ce1c"
  }
 ],
 "metadata": {
  "kernelspec": {
   "display_name": "Python 3",
   "language": "python",
   "name": "python3"
  },
  "language_info": {
   "codemirror_mode": {
    "name": "ipython",
    "version": 2
   },
   "file_extension": ".py",
   "mimetype": "text/x-python",
   "name": "python",
   "nbconvert_exporter": "python",
   "pygments_lexer": "ipython2",
   "version": "2.7.6"
  }
 },
 "nbformat": 4,
 "nbformat_minor": 5
}
