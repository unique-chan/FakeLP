{
 "cells": [
  {
   "cell_type": "code",
   "id": "initial_id",
   "metadata": {
    "collapsed": true,
    "ExecuteTime": {
     "end_time": "2024-05-22T06:18:49.100512Z",
     "start_time": "2024-05-22T06:18:48.801779Z"
    }
   },
   "source": [
    "import torch\n",
    "import torch.nn as nn\n",
    "import torch.optim as optim\n",
    "from torch.utils.data import DataLoader, Dataset, random_split\n",
    "from torchvision import transforms, datasets, models\n",
    "from sklearn.model_selection import KFold\n",
    "import numpy as np\n",
    "import os"
   ],
   "outputs": [],
   "execution_count": 2
  },
  {
   "metadata": {
    "ExecuteTime": {
     "end_time": "2024-05-22T06:21:42.888796Z",
     "start_time": "2024-05-22T06:21:42.886886Z"
    }
   },
   "cell_type": "code",
   "source": [
    "import warnings\n",
    "\n",
    "warnings.filterwarnings(action='ignore')"
   ],
   "id": "25a6f1d7529b2cb4",
   "outputs": [],
   "execution_count": 6
  },
  {
   "metadata": {
    "ExecuteTime": {
     "end_time": "2024-05-22T06:20:22.603702Z",
     "start_time": "2024-05-22T06:20:22.600812Z"
    }
   },
   "cell_type": "code",
   "source": [
    "data_dir = 'fake_licenseplate'\n",
    "batch_size = 32\n",
    "num_epochs = 10\n",
    "k_folds = 5\n",
    "learning_rate = 0.001\n",
    "\n",
    "transform = transforms.Compose([\n",
    "    transforms.Resize((144, 48)),\n",
    "    transforms.ToTensor(),\n",
    "    transforms.Normalize([0.485, 0.456, 0.406], [0.229, 0.224, 0.225])\n",
    "])\n",
    "\n",
    "dataset = datasets.ImageFolder(root=data_dir, transform=transform)"
   ],
   "id": "94d8bd0e735cf2bd",
   "outputs": [],
   "execution_count": 3
  },
  {
   "metadata": {
    "ExecuteTime": {
     "end_time": "2024-05-22T06:20:52.725381Z",
     "start_time": "2024-05-22T06:20:52.722897Z"
    }
   },
   "cell_type": "code",
   "source": [
    "class SimpleCNN(nn.Module):\n",
    "    def __init__(self, num_classes=2):\n",
    "        super(SimpleCNN, self).__init__()\n",
    "        self.features = models.resnet18(pretrained=True)\n",
    "        self.features.fc = nn.Linear(self.features.fc.in_features, num_classes)\n",
    "\n",
    "    def forward(self, x):\n",
    "        x = self.features(x)\n",
    "        return x"
   ],
   "id": "2f1723b0f3020a03",
   "outputs": [],
   "execution_count": 4
  },
  {
   "metadata": {
    "jupyter": {
     "is_executing": true
    },
    "ExecuteTime": {
     "start_time": "2024-05-22T06:23:50.053194Z"
    }
   },
   "cell_type": "code",
   "source": [
    "kfold = KFold(n_splits=k_folds, shuffle=True)\n",
    "\n",
    "results = {}\n",
    "\n",
    "for fold, (train_idx, val_idx) in enumerate(kfold.split(dataset)):\n",
    "    print(f'*** Fold {fold + 1} ***')\n",
    "\n",
    "    train_subsampler = torch.utils.data.SubsetRandomSampler(train_idx)\n",
    "    val_subsampler = torch.utils.data.SubsetRandomSampler(val_idx)\n",
    "\n",
    "    train_loader = DataLoader(dataset, batch_size=batch_size, sampler=train_subsampler)\n",
    "    val_loader = DataLoader(dataset, batch_size=batch_size, sampler=val_subsampler)\n",
    "\n",
    "    model = SimpleCNN(num_classes=2)\n",
    "    model = model.to(torch.device('cuda' if torch.cuda.is_available() else 'cpu'))\n",
    "\n",
    "    criterion = nn.CrossEntropyLoss()\n",
    "    optimizer = optim.Adam(model.parameters(), lr=learning_rate)\n",
    "\n",
    "    for epoch in range(num_epochs):\n",
    "        model.train()\n",
    "        for batch in train_loader:\n",
    "            images, labels = batch\n",
    "            images, labels = images.to(torch.device('cuda' if torch.cuda.is_available() else 'cpu')), labels.to(torch.device('cuda' if torch.cuda.is_available() else 'cpu'))\n",
    "\n",
    "            optimizer.zero_grad()\n",
    "            outputs = model(images)\n",
    "            loss = criterion(outputs, labels)\n",
    "            loss.backward()\n",
    "            optimizer.step()\n",
    "\n",
    "        model.eval()\n",
    "        val_loss = 0.0\n",
    "        correct = 0\n",
    "        total = 0\n",
    "        with torch.no_grad():\n",
    "            for batch in val_loader:\n",
    "                images, labels = batch\n",
    "                images, labels = images.to(torch.device('cuda' if torch.cuda.is_available() else 'cpu')), labels.to(torch.device('cuda' if torch.cuda.is_available() else 'cpu'))\n",
    "                \n",
    "                outputs = model(images)\n",
    "                loss = criterion(outputs, labels)\n",
    "                val_loss += loss.item()\n",
    "                \n",
    "                _, predicted = torch.max(outputs.data, 1)\n",
    "                total += labels.size(0)\n",
    "                correct += (predicted == labels).sum().item()\n",
    "\n",
    "        val_loss /= len(val_loader)\n",
    "        val_acc = correct / total\n",
    "        print(f'Fold {fold + 1}, Epoch {epoch + 1}, Loss: {val_loss:.4f}, Accuracy: {val_acc:.4f}')\n",
    "\n",
    "    results[fold] = val_acc\n",
    "\n",
    "print(f'K-Fold Cross Validation results: {results}')\n",
    "print(f'Average Accuracy: {np.mean(list(results.values())):.4f}')"
   ],
   "id": "9fe7a940b26568c0",
   "outputs": [
    {
     "name": "stdout",
     "output_type": "stream",
     "text": [
      "*** Fold 1 ***\n",
      "Fold 1, Epoch 1, Loss: 25.5538, Accuracy: 0.2000\n",
      "Fold 1, Epoch 2, Loss: 3.8821, Accuracy: 0.7818\n",
      "Fold 1, Epoch 3, Loss: 5.1702, Accuracy: 0.6545\n",
      "Fold 1, Epoch 4, Loss: 1.1244, Accuracy: 0.7818\n",
      "Fold 1, Epoch 5, Loss: 1.0229, Accuracy: 0.7818\n",
      "Fold 1, Epoch 6, Loss: 0.3593, Accuracy: 0.8909\n",
      "Fold 1, Epoch 7, Loss: 0.3866, Accuracy: 0.9091\n",
      "Fold 1, Epoch 8, Loss: 0.0964, Accuracy: 0.9455\n",
      "Fold 1, Epoch 9, Loss: 0.0382, Accuracy: 0.9818\n",
      "Fold 1, Epoch 10, Loss: 0.0190, Accuracy: 0.9818\n",
      "*** Fold 2 ***\n",
      "Fold 2, Epoch 1, Loss: 8.2988, Accuracy: 0.4909\n",
      "Fold 2, Epoch 2, Loss: 0.6639, Accuracy: 0.8182\n",
      "Fold 2, Epoch 3, Loss: 2.8199, Accuracy: 0.7273\n",
      "Fold 2, Epoch 4, Loss: 0.0088, Accuracy: 1.0000\n",
      "Fold 2, Epoch 5, Loss: 0.1199, Accuracy: 0.9818\n",
      "Fold 2, Epoch 6, Loss: 0.0703, Accuracy: 0.9818\n",
      "Fold 2, Epoch 7, Loss: 0.0482, Accuracy: 0.9818\n",
      "Fold 2, Epoch 8, Loss: 0.0788, Accuracy: 0.9455\n",
      "Fold 2, Epoch 9, Loss: 0.1794, Accuracy: 0.9455\n",
      "Fold 2, Epoch 10, Loss: 0.1479, Accuracy: 0.9455\n",
      "*** Fold 3 ***\n",
      "Fold 3, Epoch 1, Loss: 0.4411, Accuracy: 0.8909\n",
      "Fold 3, Epoch 2, Loss: 4.6820, Accuracy: 0.5273\n",
      "Fold 3, Epoch 3, Loss: 2.8220, Accuracy: 0.4000\n",
      "Fold 3, Epoch 4, Loss: 0.0823, Accuracy: 0.9818\n",
      "Fold 3, Epoch 5, Loss: 0.0177, Accuracy: 1.0000\n",
      "Fold 3, Epoch 6, Loss: 0.0084, Accuracy: 1.0000\n",
      "Fold 3, Epoch 7, Loss: 0.0200, Accuracy: 1.0000\n",
      "Fold 3, Epoch 8, Loss: 0.0542, Accuracy: 0.9818\n"
     ]
    }
   ],
   "execution_count": null
  },
  {
   "metadata": {},
   "cell_type": "code",
   "outputs": [],
   "execution_count": null,
   "source": "",
   "id": "34dd7cb0a847ce1c"
  }
 ],
 "metadata": {
  "kernelspec": {
   "display_name": "Python 3",
   "language": "python",
   "name": "python3"
  },
  "language_info": {
   "codemirror_mode": {
    "name": "ipython",
    "version": 2
   },
   "file_extension": ".py",
   "mimetype": "text/x-python",
   "name": "python",
   "nbconvert_exporter": "python",
   "pygments_lexer": "ipython2",
   "version": "2.7.6"
  }
 },
 "nbformat": 4,
 "nbformat_minor": 5
}
