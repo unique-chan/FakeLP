{
 "cells": [
  {
   "cell_type": "code",
   "id": "initial_id",
   "metadata": {
    "collapsed": true,
    "ExecuteTime": {
     "end_time": "2024-05-22T06:18:49.100512Z",
     "start_time": "2024-05-22T06:18:48.801779Z"
    }
   },
   "source": [
    "import torch\n",
    "import torch.nn as nn\n",
    "import torch.optim as optim\n",
    "from torch.utils.data import DataLoader, Dataset, random_split\n",
    "from torchvision import transforms, datasets, models\n",
    "from sklearn.model_selection import KFold\n",
    "import numpy as np\n",
    "import os"
   ],
   "outputs": [],
   "execution_count": 2
  },
  {
   "metadata": {
    "ExecuteTime": {
     "end_time": "2024-05-22T06:21:42.888796Z",
     "start_time": "2024-05-22T06:21:42.886886Z"
    }
   },
   "cell_type": "code",
   "source": [
    "import warnings\n",
    "\n",
    "warnings.filterwarnings(action='ignore')"
   ],
   "id": "25a6f1d7529b2cb4",
   "outputs": [],
   "execution_count": 6
  },
  {
   "metadata": {
    "ExecuteTime": {
     "end_time": "2024-05-22T06:20:22.603702Z",
     "start_time": "2024-05-22T06:20:22.600812Z"
    }
   },
   "cell_type": "code",
   "source": [
    "data_dir = 'fake_licenseplate'\n",
    "batch_size = 32\n",
    "num_epochs = 10\n",
    "k_folds = 5\n",
    "learning_rate = 0.001\n",
    "\n",
    "transform = transforms.Compose([\n",
    "    transforms.Resize((144, 48)),\n",
    "    transforms.ToTensor(),\n",
    "    transforms.Normalize([0.485, 0.456, 0.406], [0.229, 0.224, 0.225])\n",
    "])\n",
    "\n",
    "dataset = datasets.ImageFolder(root=data_dir, transform=transform)"
   ],
   "id": "94d8bd0e735cf2bd",
   "outputs": [],
   "execution_count": 3
  },
  {
   "metadata": {
    "ExecuteTime": {
     "end_time": "2024-05-22T06:20:52.725381Z",
     "start_time": "2024-05-22T06:20:52.722897Z"
    }
   },
   "cell_type": "code",
   "source": [
    "class SimpleCNN(nn.Module):\n",
    "    def __init__(self, num_classes=2):\n",
    "        super(SimpleCNN, self).__init__()\n",
    "        self.features = models.resnet18(pretrained=True)\n",
    "        self.features.fc = nn.Linear(self.features.fc.in_features, num_classes)\n",
    "\n",
    "    def forward(self, x):\n",
    "        x = self.features(x)\n",
    "        return x"
   ],
   "id": "2f1723b0f3020a03",
   "outputs": [],
   "execution_count": 4
  },
  {
   "metadata": {
    "ExecuteTime": {
     "end_time": "2024-05-22T06:21:57.983959Z",
     "start_time": "2024-05-22T06:21:50.148293Z"
    }
   },
   "cell_type": "code",
   "source": [
    "kfold = KFold(n_splits=k_folds, shuffle=True)\n",
    "\n",
    "results = {}\n",
    "\n",
    "for fold, (train_idx, val_idx) in enumerate(kfold.split(dataset)):\n",
    "    print(f'Fold {fold + 1}')\n",
    "\n",
    "    train_subsampler = torch.utils.data.SubsetRandomSampler(train_idx)\n",
    "    val_subsampler = torch.utils.data.SubsetRandomSampler(val_idx)\n",
    "\n",
    "    train_loader = DataLoader(dataset, batch_size=batch_size, sampler=train_subsampler)\n",
    "    val_loader = DataLoader(dataset, batch_size=batch_size, sampler=val_subsampler)\n",
    "\n",
    "    model = SimpleCNN(num_classes=2)\n",
    "    model = model.to(torch.device('cuda' if torch.cuda.is_available() else 'cpu'))\n",
    "\n",
    "    criterion = nn.CrossEntropyLoss()\n",
    "    optimizer = optim.Adam(model.parameters(), lr=learning_rate)\n",
    "\n",
    "    for epoch in range(num_epochs):\n",
    "        model.train()\n",
    "        for batch in train_loader:\n",
    "            images, labels = batch\n",
    "            images, labels = images.to(torch.device('cuda' if torch.cuda.is_available() else 'cpu')), labels.to(torch.device('cuda' if torch.cuda.is_available() else 'cpu'))\n",
    "\n",
    "            optimizer.zero_grad()\n",
    "            outputs = model(images)\n",
    "            loss = criterion(outputs, labels)\n",
    "            loss.backward()\n",
    "            optimizer.step()\n",
    "\n",
    "        model.eval()\n",
    "        val_loss = 0.0\n",
    "        correct = 0\n",
    "        total = 0\n",
    "        with torch.no_grad():\n",
    "            for batch in val_loader:\n",
    "                images, labels = batch\n",
    "                images, labels = images.to(torch.device('cuda' if torch.cuda.is_available() else 'cpu')), labels.to(torch.device('cuda' if torch.cuda.is_available() else 'cpu'))\n",
    "                \n",
    "                outputs = model(images)\n",
    "                loss = criterion(outputs, labels)\n",
    "                val_loss += loss.item()\n",
    "                \n",
    "                _, predicted = torch.max(outputs.data, 1)\n",
    "                total += labels.size(0)\n",
    "                correct += (predicted == labels).sum().item()\n",
    "\n",
    "        val_loss /= len(val_loader)\n",
    "        val_acc = correct / total\n",
    "        print(f'Fold {fold + 1}, Epoch {epoch + 1}, Loss: {val_loss:.4f}, Accuracy: {val_acc:.4f}')\n",
    "\n",
    "    results[fold] = val_acc\n",
    "\n",
    "print(f'K-Fold Cross Validation results: {results}')\n",
    "print(f'Average Accuracy: {np.mean(list(results.values())):.4f}')"
   ],
   "id": "9fe7a940b26568c0",
   "outputs": [
    {
     "name": "stdout",
     "output_type": "stream",
     "text": [
      "Fold 1\n",
      "Fold 1, Epoch 1, Loss: 6.3347, Accuracy: 0.5455\n",
      "Fold 1, Epoch 2, Loss: 25.1126, Accuracy: 0.2909\n",
      "Fold 1, Epoch 3, Loss: 3.0921, Accuracy: 0.6364\n",
      "Fold 1, Epoch 4, Loss: 1.4152, Accuracy: 0.7455\n",
      "Fold 1, Epoch 5, Loss: 0.6714, Accuracy: 0.9091\n",
      "Fold 1, Epoch 6, Loss: 0.0578, Accuracy: 0.9818\n",
      "Fold 1, Epoch 7, Loss: 0.0073, Accuracy: 1.0000\n",
      "Fold 1, Epoch 8, Loss: 0.0030, Accuracy: 1.0000\n",
      "Fold 1, Epoch 9, Loss: 0.0018, Accuracy: 1.0000\n",
      "Fold 1, Epoch 10, Loss: 0.0020, Accuracy: 1.0000\n",
      "Fold 2\n",
      "Fold 2, Epoch 1, Loss: 9.9773, Accuracy: 0.4727\n",
      "Fold 2, Epoch 2, Loss: 0.4353, Accuracy: 0.9455\n",
      "Fold 2, Epoch 3, Loss: 1.0721, Accuracy: 0.8545\n",
      "Fold 2, Epoch 4, Loss: 0.3655, Accuracy: 0.9273\n",
      "Fold 2, Epoch 5, Loss: 0.0182, Accuracy: 0.9818\n",
      "Fold 2, Epoch 6, Loss: 0.8706, Accuracy: 0.8000\n",
      "Fold 2, Epoch 7, Loss: 0.0044, Accuracy: 1.0000\n",
      "Fold 2, Epoch 8, Loss: 0.0017, Accuracy: 1.0000\n",
      "Fold 2, Epoch 9, Loss: 0.0021, Accuracy: 1.0000\n",
      "Fold 2, Epoch 10, Loss: 0.0016, Accuracy: 1.0000\n",
      "Fold 3\n",
      "Fold 3, Epoch 1, Loss: 1.7792, Accuracy: 0.8727\n",
      "Fold 3, Epoch 2, Loss: 8.2101, Accuracy: 0.6182\n",
      "Fold 3, Epoch 3, Loss: 9.3077, Accuracy: 0.4000\n",
      "Fold 3, Epoch 4, Loss: 3.5551, Accuracy: 0.6182\n",
      "Fold 3, Epoch 5, Loss: 1.1801, Accuracy: 0.8182\n",
      "Fold 3, Epoch 6, Loss: 0.2501, Accuracy: 0.9455\n",
      "Fold 3, Epoch 7, Loss: 0.0984, Accuracy: 0.9636\n",
      "Fold 3, Epoch 8, Loss: 0.1788, Accuracy: 0.9636\n",
      "Fold 3, Epoch 9, Loss: 0.3093, Accuracy: 0.9455\n",
      "Fold 3, Epoch 10, Loss: 0.1845, Accuracy: 0.9455\n",
      "Fold 4\n",
      "Fold 4, Epoch 1, Loss: 27.4975, Accuracy: 0.3704\n",
      "Fold 4, Epoch 2, Loss: 16.8691, Accuracy: 0.4630\n",
      "Fold 4, Epoch 3, Loss: 9.3262, Accuracy: 0.5000\n",
      "Fold 4, Epoch 4, Loss: 6.3600, Accuracy: 0.5185\n",
      "Fold 4, Epoch 5, Loss: 0.3022, Accuracy: 0.9630\n",
      "Fold 4, Epoch 6, Loss: 0.0011, Accuracy: 1.0000\n",
      "Fold 4, Epoch 7, Loss: 0.0015, Accuracy: 1.0000\n",
      "Fold 4, Epoch 8, Loss: 0.0033, Accuracy: 1.0000\n",
      "Fold 4, Epoch 9, Loss: 0.0267, Accuracy: 0.9815\n",
      "Fold 4, Epoch 10, Loss: 0.0003, Accuracy: 1.0000\n",
      "Fold 5\n",
      "Fold 5, Epoch 1, Loss: 0.7213, Accuracy: 0.9259\n",
      "Fold 5, Epoch 2, Loss: 14.1210, Accuracy: 0.2778\n",
      "Fold 5, Epoch 3, Loss: 2.8347, Accuracy: 0.5370\n",
      "Fold 5, Epoch 4, Loss: 0.4762, Accuracy: 0.8333\n",
      "Fold 5, Epoch 5, Loss: 0.1517, Accuracy: 0.9444\n",
      "Fold 5, Epoch 6, Loss: 0.0124, Accuracy: 1.0000\n",
      "Fold 5, Epoch 7, Loss: 0.0022, Accuracy: 1.0000\n",
      "Fold 5, Epoch 8, Loss: 0.0017, Accuracy: 1.0000\n",
      "Fold 5, Epoch 9, Loss: 0.0006, Accuracy: 1.0000\n",
      "Fold 5, Epoch 10, Loss: 0.0044, Accuracy: 1.0000\n",
      "K-Fold Cross Validation results: {0: 1.0, 1: 1.0, 2: 0.9454545454545454, 3: 1.0, 4: 1.0}\n",
      "Average Accuracy: 0.9891\n"
     ]
    }
   ],
   "execution_count": 7
  },
  {
   "metadata": {},
   "cell_type": "code",
   "outputs": [],
   "execution_count": null,
   "source": "",
   "id": "34dd7cb0a847ce1c"
  }
 ],
 "metadata": {
  "kernelspec": {
   "display_name": "Python 3",
   "language": "python",
   "name": "python3"
  },
  "language_info": {
   "codemirror_mode": {
    "name": "ipython",
    "version": 2
   },
   "file_extension": ".py",
   "mimetype": "text/x-python",
   "name": "python",
   "nbconvert_exporter": "python",
   "pygments_lexer": "ipython2",
   "version": "2.7.6"
  }
 },
 "nbformat": 4,
 "nbformat_minor": 5
}
